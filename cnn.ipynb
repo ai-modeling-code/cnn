{
 "cells": [
  {
   "cell_type": "markdown",
   "id": "0de013dc",
   "metadata": {},
   "source": [
    "# 활동 주제\n",
    "\n",
    "DNN으로 분류했던 MNIST 이미지를 합성곱 신경망(CNN)을 이용하여 분류해 보자."
   ]
  },
  {
   "cell_type": "markdown",
   "id": "9c98d710",
   "metadata": {},
   "source": [
    "# 요구 사항\n",
    "\n",
    "- 데이터 세트는 빌트인 데이터인 tf.keras.datasets의 MNIST 데이터 세트를 이용한다. \n",
    "- DNN 알고리즘으로 분류했던 숫자 이미지를 CNN 알고리즘을 이용하여 분류한다. "
   ]
  },
  {
   "cell_type": "markdown",
   "id": "2d738307",
   "metadata": {},
   "source": [
    "# 활동하기\n",
    "\n",
    "1. MNIST 데이터 세트를 불러오기\n",
    "\n",
    "-필요한 모듈 가져오기"
   ]
  },
  {
   "cell_type": "code",
   "execution_count": null,
   "id": "bab9ecd0",
   "metadata": {
    "vscode": {
     "languageId": "plaintext"
    }
   },
   "outputs": [],
   "source": []
  },
  {
   "cell_type": "markdown",
   "id": "fedc88bb",
   "metadata": {},
   "source": [
    "-MNIST 데이터 세트 가져오기"
   ]
  },
  {
   "cell_type": "code",
   "execution_count": null,
   "id": "d21c4bad",
   "metadata": {
    "vscode": {
     "languageId": "plaintext"
    }
   },
   "outputs": [],
   "source": []
  },
  {
   "cell_type": "markdown",
   "id": "c6ad27ee",
   "metadata": {},
   "source": [
    "2. 데이터 탐색하기"
   ]
  },
  {
   "cell_type": "code",
   "execution_count": null,
   "id": "453b3769",
   "metadata": {
    "vscode": {
     "languageId": "plaintext"
    }
   },
   "outputs": [],
   "source": []
  },
  {
   "cell_type": "markdown",
   "id": "303f6bd1",
   "metadata": {},
   "source": [
    "3. 데이터 전처리하기"
   ]
  },
  {
   "cell_type": "code",
   "execution_count": null,
   "id": "8b98fa41",
   "metadata": {
    "vscode": {
     "languageId": "plaintext"
    }
   },
   "outputs": [],
   "source": []
  },
  {
   "cell_type": "markdown",
   "id": "9f69a66d",
   "metadata": {},
   "source": [
    "4. 모델 구성하기"
   ]
  },
  {
   "cell_type": "code",
   "execution_count": null,
   "id": "0b84c8f4",
   "metadata": {
    "vscode": {
     "languageId": "plaintext"
    }
   },
   "outputs": [],
   "source": []
  },
  {
   "cell_type": "markdown",
   "id": "b67a476e",
   "metadata": {},
   "source": [
    "5. 모델 훈련 및 성능 평가하기\n",
    "-과적합 예방을 위한 조기 종료 설정"
   ]
  },
  {
   "cell_type": "code",
   "execution_count": null,
   "id": "6129dfdc",
   "metadata": {
    "vscode": {
     "languageId": "plaintext"
    }
   },
   "outputs": [],
   "source": []
  },
  {
   "cell_type": "markdown",
   "id": "12168c9b",
   "metadata": {},
   "source": [
    "-모델 훈련"
   ]
  },
  {
   "cell_type": "code",
   "execution_count": null,
   "id": "531de75b",
   "metadata": {
    "vscode": {
     "languageId": "plaintext"
    }
   },
   "outputs": [],
   "source": []
  },
  {
   "cell_type": "markdown",
   "id": "f55f447a",
   "metadata": {},
   "source": [
    "-조기 종료 시점 그래프 확인하기"
   ]
  },
  {
   "cell_type": "code",
   "execution_count": null,
   "id": "fcfb74f7",
   "metadata": {
    "vscode": {
     "languageId": "plaintext"
    }
   },
   "outputs": [],
   "source": []
  },
  {
   "cell_type": "markdown",
   "id": "1cbb7846",
   "metadata": {},
   "source": [
    "-성능 평가"
   ]
  },
  {
   "cell_type": "code",
   "execution_count": null,
   "id": "1d451af2",
   "metadata": {
    "vscode": {
     "languageId": "plaintext"
    }
   },
   "outputs": [],
   "source": []
  },
  {
   "cell_type": "markdown",
   "id": "a6403ca8",
   "metadata": {},
   "source": [
    "### 스스로 평가하기 : 다음 평가 항목을 스스로 평가해 보자.\n",
    "|평가 항목|예|아니오|\n",
    "|-------|-|-----|\n",
    "|1. 데이터 세트를 불로온 후 시각화하여 살펴볼 수 있다.| |  |\n",
    "|2. CNN 알고리즘을 이용하여 모델을 구성할 수 있다.| |  |"
   ]
  }
 ],
 "metadata": {
  "language_info": {
   "name": "python"
  }
 },
 "nbformat": 4,
 "nbformat_minor": 5
}
